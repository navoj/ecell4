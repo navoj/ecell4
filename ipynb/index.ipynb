{
 "cells": [
  {
   "cell_type": "markdown",
   "metadata": {},
   "source": [
    "<div>\n",
    "<img src=\"http://dev.e-cell.org/ecell-logo-with-title.png\">\n",
    "</div>"
   ]
  },
  {
   "cell_type": "markdown",
   "metadata": {},
   "source": [
    "# Welcome to E-Cell4 in IPython Notebook!\n",
    "\n",
    "E-Cell System, a software platform for modeling, simulation and analysis of complex, heterogeneous and multi-scale systems like the cell. E-Cell4 is a free and open-source software licensed under the GNU General Public License version 2. The source code is available on [GitHub](https://github.com/ecell/ecell4).\n",
    "\n",
    "See [README.md](https://github.com/ecell/ecell4/blob/develop/README.md) for how to install E-Cell4. Linux, Windows and Mac OSX are supported."
   ]
  },
  {
   "cell_type": "markdown",
   "metadata": {},
   "source": [
    "## Tutorial\n",
    "\n",
    "The Tutorial is divided in three sections: Basic, Topical and Advanced exercises. We recommend to try all Basic exercises to understand how to use E-Cell4. Each section contains several IPython notebooks with different exercises. \n",
    "\n",
    "Get started with E-Cell4 by going through the tutorial."
   ]
  },
  {
   "cell_type": "markdown",
   "metadata": {},
   "source": [
    "### Basic Exercises\n",
    "\n",
    "There are three important components to understand E-Cell4: `Model`, `World` and `Simulator` classes. These components describe different concepts in a simulation.\n",
    "\n",
    "`Model`, as its name suggests, describes the matter to simulate.  \n",
    "`World` describes the state. For example, initial state or a state of a time-point.  \n",
    "`Simulator` describes the solver and algorithm.\n",
    "\n",
    "These three components are independent, but `World` is often dependent on a type of `Simulator`.\n",
    "\n",
    "- [Model](Tutorials/ModelBasics.ipynb)\n",
    "- [World and Simulator](Tutorials/WorldSimBasics.ipynb)"
   ]
  },
  {
   "cell_type": "markdown",
   "metadata": {},
   "source": [
    "### Topical Exercises\n",
    "\n",
    "- [Visualizer](Tutorials/Visualizer.ipynb)\n",
    "- [Rule-based Modeling](Tutorials/RuleBasedModeling.ipynb)\n",
    "- [Observer](Tutorials/Observer.ipynb)"
   ]
  },
  {
   "cell_type": "markdown",
   "metadata": {},
   "source": [
    "### Advanced Exercises\n",
    "\n",
    "- [Spatial Gillespie, diffusion, and localization](Tutorials/Meso.ipynb)\n",
    "- [Particle simulation with Spatiocyte](Tutorials/Spatiocyte.ipynb)\n",
    "- [World Advanced](Tutorials/WorldAdvanced.ipynb)\n",
    "- [Model Advanced](Tutorials/ModelAdvanced.ipynb)\n",
    "- [Simple equilibrium model](Tutorials/SimpleEquilibrium.ipynb)"
   ]
  },
  {
   "cell_type": "markdown",
   "metadata": {},
   "source": [
    "## Example\n",
    "\n",
    "Here is an extremely simple example with a reversible binding reaction:"
   ]
  },
  {
   "cell_type": "code",
   "execution_count": 1,
   "metadata": {
    "collapsed": false
   },
   "outputs": [
    {
     "data": {
      "image/png": "[encoded data removed]",
      "text/plain": [
       "<matplotlib.figure.Figure at 0x7fd2808647d0>"
      ]
     },
     "metadata": {},
     "output_type": "display_data"
    }
   ],
   "source": [
    "%matplotlib inline\n",
    "import numpy\n",
    "from ecell4 import *\n",
    "\n",
    "with reaction_rules():\n",
    "    A + B == C | (0.01, 0.3)\n",
    "\n",
    "y = run_simulation(\n",
    "    numpy.linspace(0, 10, 100), {'A': 60, 'B': 60}, solver='ode')"
   ]
  },
  {
   "cell_type": "markdown",
   "metadata": {},
   "source": [
    "More examples are available below:"
   ]
  },
  {
   "cell_type": "markdown",
   "metadata": {},
   "source": [
    "- [MSD](Examples/MSD.ipynb) explains how to take statistics of trajectories of particles freely diffusing in three-dimensional space. This would be the best demonstration to explain the usage of `FixedIntervalTrajectoryObserver`."
   ]
  },
  {
   "cell_type": "markdown",
   "metadata": {},
   "source": [
    "<script>\n",
    "  (function(i,s,o,g,r,a,m){i['GoogleAnalyticsObject']=r;i[r]=i[r]||function(){\n",
    "  (i[r].q=i[r].q||[]).push(arguments)},i[r].l=1*new Date();a=s.createElement(o),\n",
    "  m=s.getElementsByTagName(o)[0];a.async=1;a.src=g;m.parentNode.insertBefore(a,m)\n",
    "  })(window,document,'script','//www.google-analytics.com/analytics.js','ga');\n",
    "\n",
    "  ga('create', 'UA-27761864-9', 'auto');\n",
    "  ga('send', 'pageview');\n",
    "</script>"
   ]
  }
 ],
 "metadata": {
  "kernelspec": {
   "display_name": "Python 2",
   "language": "python",
   "name": "python2"
  },
  "language_info": {
   "codemirror_mode": {
    "name": "ipython",
    "version": 2
   },
   "file_extension": ".py",
   "mimetype": "text/x-python",
   "name": "python",
   "nbconvert_exporter": "python",
   "pygments_lexer": "ipython2",
   "version": "2.7.9"
  }
 },
 "nbformat": 4,
 "nbformat_minor": 0
}
